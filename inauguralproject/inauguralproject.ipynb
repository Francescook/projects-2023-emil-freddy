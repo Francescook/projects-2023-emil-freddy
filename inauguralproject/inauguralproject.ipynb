{
 "cells": [
  {
   "cell_type": "markdown",
   "metadata": {},
   "source": [
    "# Inaugural Project"
   ]
  },
  {
   "attachments": {},
   "cell_type": "markdown",
   "metadata": {},
   "source": [
    "> **Note the following:** \n",
    "> 1. This is an example of how to structure your **inaugural project**.\n",
    "> 1. Remember the general advice on structuring and commenting your code\n",
    "> 1. The `inauguralproject.py` file includes a function which can be used multiple times in this notebook."
   ]
  },
  {
   "attachments": {},
   "cell_type": "markdown",
   "metadata": {},
   "source": [
    "We import required packages for our project.\n",
    "We call in our model that we have set up in the py-file.\n",
    "Moreover, we setup autoreload."
   ]
  },
  {
   "cell_type": "code",
   "execution_count": 1,
   "metadata": {},
   "outputs": [],
   "source": [
    "\n",
    "from types import SimpleNamespace\n",
    "\n",
    "import numpy as np\n",
    "from scipy import optimize\n",
    "from scipy.optimize import minimize\n",
    "\n",
    "import pandas as pd \n",
    "import matplotlib.pyplot as plt\n",
    "from mpl_toolkits.mplot3d import axes3d\n",
    "from matplotlib import cm\n",
    "\n",
    "class HouseholdSpecializationModelClass:\n",
    "\n",
    "    def __init__(self):\n",
    "        \"\"\" setup model \"\"\"\n",
    "\n",
    "        # a. create namespaces\n",
    "        par = self.par = SimpleNamespace()\n",
    "        sol = self.sol = SimpleNamespace()\n",
    "\n",
    "        # b. preferences\n",
    "        par.rho = 2.0\n",
    "        par.nu = 0.001\n",
    "        par.epsilon = 1.0\n",
    "        par.omega = 0.5 \n",
    "\n",
    "        # c. household production\n",
    "        par.alpha = 0.5\n",
    "        par.sigma = 1.0\n",
    "\n",
    "        # d. wages\n",
    "        par.wM = 1.0\n",
    "        par.wF = 1.0\n",
    "        par.wF_vec = np.linspace(0.8,1.2,5)\n",
    "\n",
    "        # e. targets\n",
    "        par.beta0_target = 0.4\n",
    "        par.beta1_target = -0.1\n",
    "\n",
    "        # f. solution\n",
    "        sol.LM_vec = np.zeros(par.wF_vec.size)\n",
    "        sol.HM_vec = np.zeros(par.wF_vec.size)\n",
    "        sol.LF_vec = np.zeros(par.wF_vec.size)\n",
    "        sol.HF_vec = np.zeros(par.wF_vec.size)\n",
    "\n",
    "        sol.beta0 = np.nan\n",
    "        sol.beta1 = np.nan\n",
    "\n",
    "    def calc_utility(self,LM,HM,LF,HF):\n",
    "        \"\"\" calculate utility \"\"\"\n",
    "\n",
    "        par = self.par\n",
    "        sol = self.sol\n",
    "\n",
    "        # a. consumption of market goods\n",
    "        C = par.wM*LM + par.wF*LF\n",
    "\n",
    "        # b. home production \n",
    "        #H = HM**(1-par.alpha)*HF**par.alpha\n",
    "        H = None\n",
    "        if (par.sigma == 1):\n",
    "            H = HM**(1-par.alpha)*HF**par.alpha\n",
    "        elif (par.sigma == 0):\n",
    "            H = min(HM,HF)\n",
    "        else:\n",
    "            H = ((1-par.alpha)*HM**((par.sigma-1)/par.sigma)+par.alpha*HF**((par.sigma-1)/par.sigma))**(par.sigma/(par.sigma-1))\n",
    "\n",
    "        # c. total consumption utility\n",
    "        Q = C**par.omega*H**(1-par.omega)\n",
    "        utility = np.fmax(Q,1e-8)**(1-par.rho)/(1-par.rho)\n",
    "\n",
    "        # d. disutlity of work\n",
    "        epsilon_ = 1+1/par.epsilon\n",
    "        TM = LM+HM\n",
    "        TF = LF+HF\n",
    "        disutility = par.nu*(TM**epsilon_/epsilon_+TF**epsilon_/epsilon_)\n",
    "        \n",
    "        return utility - disutility\n",
    "\n",
    "    def solve_discrete(self,do_print=False):\n",
    "        \"\"\" solve model discretely \"\"\"\n",
    "        \n",
    "        par = self.par\n",
    "        sol = self.sol\n",
    "        opt = SimpleNamespace()\n",
    "        \n",
    "        # a. all possible choices\n",
    "        x = np.linspace(0,24,49)\n",
    "        LM,HM,LF,HF = np.meshgrid(x,x,x,x) # all combinations\n",
    "    \n",
    "        LM = LM.ravel() # vector\n",
    "        HM = HM.ravel()\n",
    "        LF = LF.ravel()\n",
    "        HF = HF.ravel()\n",
    "\n",
    "        # b. calculate utility\n",
    "        u = self.calc_utility(LM,HM,LF,HF)\n",
    "    \n",
    "        # c. set to minus infinity if constraint is broken\n",
    "        I = (LM+HM > 24) | (LF+HF > 24) # | is \"or\"\n",
    "        u[I] = -np.inf\n",
    "    \n",
    "        # d. find maximizing argument\n",
    "        j = np.argmax(u)\n",
    "        \n",
    "        opt.LM = LM[j]\n",
    "        opt.HM = HM[j]\n",
    "        opt.LF = LF[j]\n",
    "        opt.HF = HF[j]\n",
    "\n",
    "        # e. print\n",
    "        if do_print:\n",
    "            for k,v in opt.__dict__.items():\n",
    "                print(f'{k} = {v:6.4f}')\n",
    "\n",
    "        return opt\n",
    "\n",
    "        \n",
    "    def solve_continuous(self, do_print=False):\n",
    "        \"\"\"solve the model using continuous optimization\"\"\"\n",
    "        # unpack\n",
    "        par = self.par\n",
    "        sol = self.sol\n",
    "        opt3 = SimpleNamespace()\n",
    "\n",
    "        # constraints\n",
    "        def constraint1(x):\n",
    "            LM, HM, LF, HF = x\n",
    "            return 24 - (LM + HM)\n",
    "        \n",
    "        def constraint2(x):\n",
    "            LM, HM, LF, HF = x\n",
    "            return 24 - (LF + HF)\n",
    "        \n",
    "        constraints = [{'type': 'ineq', 'fun': constraint1},\n",
    "                    {'type': 'ineq', 'fun': constraint2}]\n",
    "        \n",
    "        # defining object\n",
    "        #obj = lambda x: - self.solve_obj(x)\n",
    "\n",
    "        # guesses\n",
    "        guess = [12]*4\n",
    "\n",
    "        # bounds\n",
    "        bounds = [(0,24)]*4\n",
    "\n",
    "        # optimizer \n",
    "        result = minimize(self.solve_obj,guess,method='Nelder-Mead', bounds=bounds, constraints=constraints) \n",
    "\n",
    "\n",
    "        # results\n",
    "        opt3.LM=result.x[0]\n",
    "        opt3.HM=result.x[1]\n",
    "        opt3.LF=result.x[2]\n",
    "        opt3.HF=result.x[3]\n",
    "\n",
    "        # return solution\n",
    "        return opt3\n",
    "\n",
    "    def solve_wF_vec(self,discrete=False):\n",
    "        \"\"\" solve model for vector of female wages \"\"\"\n",
    "\n",
    "        pass\n",
    "\n",
    "    def run_regression(self):\n",
    "        \"\"\" run regression \"\"\"\n",
    "\n",
    "        par = self.par\n",
    "        sol = self.sol\n",
    "\n",
    "        x = np.log(par.wF_vec)\n",
    "        y = np.log(sol.HF_vec/sol.HM_vec)\n",
    "        A = np.vstack([np.ones(x.size),x]).T\n",
    "        sol.beta0,sol.beta1 = np.linalg.lstsq(A,y,rcond=None)[0]\n",
    "    \n",
    "    def estimate(self,alpha=None,sigma=None):\n",
    "        \"\"\" estimate alpha and sigma \"\"\"\n",
    "\n",
    "        pass"
   ]
  },
  {
   "cell_type": "markdown",
   "metadata": {},
   "source": [
    "# Question 1"
   ]
  },
  {
   "cell_type": "markdown",
   "metadata": {},
   "source": [
    "**Explain how you solve the model**"
   ]
  },
  {
   "cell_type": "code",
   "execution_count": 2,
   "metadata": {},
   "outputs": [
    {
     "name": "stderr",
     "output_type": "stream",
     "text": [
      "/var/folders/2m/pylrffks44n07rlh7fdg0nr00000gn/T/ipykernel_34745/3348222532.py:66: RuntimeWarning: divide by zero encountered in reciprocal\n",
      "  H = ((1-par.alpha)*HM**((par.sigma-1)/par.sigma)+par.alpha*HF**((par.sigma-1)/par.sigma))**(par.sigma/(par.sigma-1))\n",
      "/var/folders/2m/pylrffks44n07rlh7fdg0nr00000gn/T/ipykernel_34745/3348222532.py:66: RuntimeWarning: invalid value encountered in reciprocal\n",
      "  H = ((1-par.alpha)*HM**((par.sigma-1)/par.sigma)+par.alpha*HF**((par.sigma-1)/par.sigma))**(par.sigma/(par.sigma-1))\n",
      "/var/folders/2m/pylrffks44n07rlh7fdg0nr00000gn/T/ipykernel_34745/3348222532.py:70: RuntimeWarning: invalid value encountered in reciprocal\n",
      "  utility = np.fmax(Q,1e-8)**(1-par.rho)/(1-par.rho)\n"
     ]
    },
    {
     "data": {
      "image/png": "[encoded data removed]",
      "text/plain": [
       "<Figure size 640x480 with 1 Axes>"
      ]
     },
     "metadata": {},
     "output_type": "display_data"
    }
   ],
   "source": [
    "# We define the parameters alpha and sigma\n",
    "alpha_varying = [0.25, 0.5, 0.75]\n",
    "sigma_varying = [0.5, 1, 1.5]\n",
    "\n",
    "# We store the results that we get\n",
    "alphastore = []\n",
    "sigmastore = []\n",
    "ratiostore = []\n",
    "\n",
    "# We create a simple loop for all the different values that we want to examine\n",
    "for alpha in alpha_varying:\n",
    "    for sigma in sigma_varying:\n",
    "\n",
    "        # We call our model specifications\n",
    "        HHclass = HouseholdSpecializationModelClass()\n",
    "\n",
    "     # We set the correct values for the parameters\n",
    "        HHclass.par.alpha = alpha\n",
    "        HHclass.par.sigma = sigma\n",
    "\n",
    "        # We solve the model\n",
    "        opt = HHclass.solve_discrete()\n",
    "\n",
    "        # We start by defining our the ratio between HF and HM\n",
    "        ratio = opt.HF / opt.HM\n",
    "\n",
    "        # We store the results\n",
    "        alphastore.append(alpha)\n",
    "        sigmastore.append(sigma)\n",
    "        ratiostore.append(ratio)\n",
    "\n",
    "fig = plt.figure()\n",
    "ax = fig.add_subplot(111, projection='3d')\n",
    "ax.scatter(alphastore, sigmastore, ratiostore)\n",
    "ax.set_xlabel('Alpha')\n",
    "ax.set_ylabel('Sigma')\n",
    "ax.set_zlabel('Ratio')\n",
    "plt.show()\n"
   ]
  },
  {
   "cell_type": "code",
   "execution_count": 3,
   "metadata": {},
   "outputs": [
    {
     "name": "stderr",
     "output_type": "stream",
     "text": [
      "/var/folders/2m/pylrffks44n07rlh7fdg0nr00000gn/T/ipykernel_34745/3348222532.py:66: RuntimeWarning: divide by zero encountered in reciprocal\n",
      "  H = ((1-par.alpha)*HM**((par.sigma-1)/par.sigma)+par.alpha*HF**((par.sigma-1)/par.sigma))**(par.sigma/(par.sigma-1))\n",
      "/var/folders/2m/pylrffks44n07rlh7fdg0nr00000gn/T/ipykernel_34745/3348222532.py:66: RuntimeWarning: invalid value encountered in reciprocal\n",
      "  H = ((1-par.alpha)*HM**((par.sigma-1)/par.sigma)+par.alpha*HF**((par.sigma-1)/par.sigma))**(par.sigma/(par.sigma-1))\n",
      "/var/folders/2m/pylrffks44n07rlh7fdg0nr00000gn/T/ipykernel_34745/3348222532.py:70: RuntimeWarning: invalid value encountered in reciprocal\n",
      "  utility = np.fmax(Q,1e-8)**(1-par.rho)/(1-par.rho)\n"
     ]
    },
    {
     "name": "stdout",
     "output_type": "stream",
     "text": [
      "Alpha - Sigma    0.50    1.00    1.50\n",
      "----------------------------------------\n",
      "    0.25    |   0.55   0.31   0.21\n",
      "    0.50    |   1.00   1.00   1.00\n",
      "    0.75    |   1.83   3.25   4.67\n"
     ]
    }
   ],
   "source": [
    "def print_table():\n",
    "    #We define an empty text string to enter a title later\n",
    "    text = ''\n",
    "\n",
    "    # Creating the top header of the table. Alpha is values downward and Sigma to the right.\n",
    "    text += f'{\"Alpha - Sigma\":3s}'\n",
    "    for j, sigma in enumerate(sigma_varying):\n",
    "       HHclass.par.sigma = sigma\n",
    "       text += f'{sigma:8.2f}' \n",
    "    text += '\\n' + \"-\"*40 + \"\\n\" # creating a line shift \n",
    "    \n",
    "    # Creating the body of the table\n",
    "    for i, alpha in enumerate(alpha_varying):\n",
    "        HHclass.par.alpha = alpha\n",
    "        if i > 0:\n",
    "            text += '\\n' # creating a line shift\n",
    "        text += f'{alpha:8.2f}    |' # creating the left header\n",
    "        for j, sigma in enumerate(sigma_varying):\n",
    "            HHclass.par.sigma=sigma\n",
    "            opt = HHclass.solve_discrete()\n",
    "            text += f'{opt.HF/opt.HM:7.2f}'\n",
    "    \n",
    "    # Print\n",
    "    print(text)\n",
    "\n",
    "print_table()"
   ]
  },
  {
   "cell_type": "markdown",
   "metadata": {},
   "source": [
    "# Question 2"
   ]
  },
  {
   "cell_type": "markdown",
   "metadata": {},
   "source": [
    "Explain your code and procedure"
   ]
  },
  {
   "cell_type": "code",
   "execution_count": 4,
   "metadata": {},
   "outputs": [
    {
     "name": "stderr",
     "output_type": "stream",
     "text": [
      "/var/folders/2m/pylrffks44n07rlh7fdg0nr00000gn/T/ipykernel_34745/3348222532.py:70: RuntimeWarning: invalid value encountered in reciprocal\n",
      "  utility = np.fmax(Q,1e-8)**(1-par.rho)/(1-par.rho)\n"
     ]
    },
    {
     "name": "stdout",
     "output_type": "stream",
     "text": [
      "[0.22314355131420976, 0.0, 0.0, -0.11778303565638351, -0.2231435513142097]\n"
     ]
    },
    {
     "data": {
      "image/png": "[encoded data removed]",
      "text/plain": [
       "<Figure size 640x480 with 1 Axes>"
      ]
     },
     "metadata": {},
     "output_type": "display_data"
    }
   ],
   "source": [
    "HHclass = HouseholdSpecializationModelClass()\n",
    "\n",
    "# We define our vector wF\n",
    "wF_varying = [0.8, 0.9, 1, 1.1, 1.2]\n",
    "\n",
    "#Store the wF values\n",
    "wFstore = []\n",
    "\n",
    "#Creating a loop for the different values\n",
    "for wF in wF_varying:\n",
    "    HHclass.par.wF = wF\n",
    "\n",
    "    # Solve\n",
    "    opt2 = HHclass.solve_discrete()\n",
    "\n",
    "    # Define the log function\n",
    "    logratio = np.log(opt2.HF/opt2.HM)\n",
    "\n",
    "    # Plotting\n",
    "    plt.plot(np.log(wF/HHclass.par.wM), logratio, 'o', label=f'wF = {wF/HHclass.par.wM:.2f}')\n",
    "\n",
    "    # Storing results\n",
    "    wFstore.append(logratio)\n",
    "\n",
    "# Customizing plot \n",
    "plt.xlabel('log(wF/wM)')\n",
    "plt.ylabel('Log(HF/HM)')\n",
    "plt.legend()\n",
    "\n",
    "# Printing\n",
    "print(wFstore)\n",
    "plt.show()\n"
   ]
  },
  {
   "cell_type": "markdown",
   "metadata": {},
   "source": [
    "# Question 3"
   ]
  },
  {
   "cell_type": "markdown",
   "metadata": {},
   "source": [
    "Explain your code and procedure"
   ]
  },
  {
   "cell_type": "code",
   "execution_count": 5,
   "metadata": {},
   "outputs": [
    {
     "ename": "AttributeError",
     "evalue": "'HouseholdSpecializationModelClass' object has no attribute 'solve_obj'",
     "output_type": "error",
     "traceback": [
      "\u001b[0;31m---------------------------------------------------------------------------\u001b[0m",
      "\u001b[0;31mAttributeError\u001b[0m                            Traceback (most recent call last)",
      "\u001b[0;32m/var/folders/2m/pylrffks44n07rlh7fdg0nr00000gn/T/ipykernel_34745/1707581855.py\u001b[0m in \u001b[0;36m<module>\u001b[0;34m\u001b[0m\n\u001b[1;32m      9\u001b[0m \u001b[0;34m\u001b[0m\u001b[0m\n\u001b[1;32m     10\u001b[0m     \u001b[0;31m# Solving for discrete optimal choice\u001b[0m\u001b[0;34m\u001b[0m\u001b[0;34m\u001b[0m\u001b[0m\n\u001b[0;32m---> 11\u001b[0;31m     \u001b[0mopt3\u001b[0m \u001b[0;34m=\u001b[0m \u001b[0mHHclass\u001b[0m\u001b[0;34m.\u001b[0m\u001b[0msolve_continuous\u001b[0m\u001b[0;34m(\u001b[0m\u001b[0;34m)\u001b[0m\u001b[0;34m\u001b[0m\u001b[0;34m\u001b[0m\u001b[0m\n\u001b[0m\u001b[1;32m     12\u001b[0m \u001b[0;34m\u001b[0m\u001b[0m\n\u001b[1;32m     13\u001b[0m     \u001b[0;31m# Creating Ratio\u001b[0m\u001b[0;34m\u001b[0m\u001b[0;34m\u001b[0m\u001b[0m\n",
      "\u001b[0;32m/var/folders/2m/pylrffks44n07rlh7fdg0nr00000gn/T/ipykernel_34745/3348222532.py\u001b[0m in \u001b[0;36msolve_continuous\u001b[0;34m(self, do_print)\u001b[0m\n\u001b[1;32m    146\u001b[0m \u001b[0;34m\u001b[0m\u001b[0m\n\u001b[1;32m    147\u001b[0m         \u001b[0;31m# optimizer\u001b[0m\u001b[0;34m\u001b[0m\u001b[0;34m\u001b[0m\u001b[0m\n\u001b[0;32m--> 148\u001b[0;31m         \u001b[0mresult\u001b[0m \u001b[0;34m=\u001b[0m \u001b[0mminimize\u001b[0m\u001b[0;34m(\u001b[0m\u001b[0mself\u001b[0m\u001b[0;34m.\u001b[0m\u001b[0msolve_obj\u001b[0m\u001b[0;34m,\u001b[0m\u001b[0mguess\u001b[0m\u001b[0;34m,\u001b[0m\u001b[0mmethod\u001b[0m\u001b[0;34m=\u001b[0m\u001b[0;34m'Nelder-Mead'\u001b[0m\u001b[0;34m,\u001b[0m \u001b[0mbounds\u001b[0m\u001b[0;34m=\u001b[0m\u001b[0mbounds\u001b[0m\u001b[0;34m,\u001b[0m \u001b[0mconstraints\u001b[0m\u001b[0;34m=\u001b[0m\u001b[0mconstraints\u001b[0m\u001b[0;34m)\u001b[0m\u001b[0;34m\u001b[0m\u001b[0;34m\u001b[0m\u001b[0m\n\u001b[0m\u001b[1;32m    149\u001b[0m \u001b[0;34m\u001b[0m\u001b[0m\n\u001b[1;32m    150\u001b[0m \u001b[0;34m\u001b[0m\u001b[0m\n",
      "\u001b[0;31mAttributeError\u001b[0m: 'HouseholdSpecializationModelClass' object has no attribute 'solve_obj'"
     ]
    }
   ],
   "source": [
    "# Using the model to calculate optimal HF and HM\n",
    "HHclass = HouseholdSpecializationModelClass()\n",
    "\n",
    "# Looping over wF values\n",
    "for wF in wF_varying:\n",
    "    \n",
    "    # Setting value \n",
    "    HHclass.par.wF = wF\n",
    "\n",
    "    # Solving for discrete optimal choice\n",
    "    opt3 = HHclass.solve_continuous()\n",
    "\n",
    "    # Creating Ratio \n",
    "    ratio = opt3.HF/opt3.HM\n",
    "\n",
    "    # Plotting \n",
    "    plt.plot(np.log(wF/HHclass.par.wM), np.log(ratio), 'o', label=f'wF = {wF/HHclass.par.wM:.2f}')\n",
    "\n",
    "# Customizing plot \n",
    "plt.xlabel('log(wF/wM)')\n",
    "plt.ylabel('Log(HF/HM)')\n",
    "plt.legend()\n",
    "\n",
    "# Printing\n",
    "plt.show()"
   ]
  },
  {
   "cell_type": "markdown",
   "metadata": {},
   "source": [
    "ADD CONCISE CONLUSION."
   ]
  }
 ],
 "metadata": {
  "kernelspec": {
   "display_name": "base",
   "language": "python",
   "name": "python3"
  },
  "language_info": {
   "codemirror_mode": {
    "name": "ipython",
    "version": 3
   },
   "file_extension": ".py",
   "mimetype": "text/x-python",
   "name": "python",
   "nbconvert_exporter": "python",
   "pygments_lexer": "ipython3",
   "version": "3.9.13"
  },
  "toc-autonumbering": true,
  "vscode": {
   "interpreter": {
    "hash": "b684206eddf23bf94bbd63f35ed0a33d95fd1584182f3f38993efea71c99bfe9"
   }
  }
 },
 "nbformat": 4,
 "nbformat_minor": 4
}
